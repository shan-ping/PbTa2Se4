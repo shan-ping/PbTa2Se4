{
 "cells": [
  {
   "cell_type": "code",
   "execution_count": 1,
   "id": "33e6557c",
   "metadata": {},
   "outputs": [
    {
     "name": "stdout",
     "output_type": "stream",
     "text": [
      "The lattice file contain the lattice parameters. The CHGCARclean file only contain the density data very convient for other program to deal with. The NGFS file is NGXF NGYF NGZF\n",
      " CHG\t\t     CONTCAR    INCAR\t  OSZICAR   POTCAR\t  XDATCAR\n",
      " CHGCAR\t\t     DOSCAR     KPOINTS   OUTCAR    REPORT\n",
      " CHGCARclean\t     EIGENVAL   lattice   PCDAT     vasprun.xml\n",
      "'CHGD(z)get.ipynb'   IBZKPT     NGFS\t  POSCAR    WAVECAR\n"
     ]
    }
   ],
   "source": [
    "!CHGCARdataseperate.sh\n",
    "!ls"
   ]
  },
  {
   "cell_type": "code",
   "execution_count": 2,
   "id": "3e468cf7",
   "metadata": {},
   "outputs": [],
   "source": [
    "import numpy as np"
   ]
  },
  {
   "cell_type": "markdown",
   "id": "911bc8e3",
   "metadata": {},
   "source": [
    "# Get the lattice parameters"
   ]
  },
  {
   "cell_type": "code",
   "execution_count": 3,
   "id": "b6406c05",
   "metadata": {},
   "outputs": [
    {
     "name": "stdout",
     "output_type": "stream",
     "text": [
      "6.899794\n",
      "1284.0366\n"
     ]
    }
   ],
   "source": [
    "file=open('lattice','r+') #open file lattice---------------------------------------------------------\n",
    "lattices=file.readlines()\n",
    "a=np.asarray(lattices[1].strip().split(),dtype='float32')\n",
    "b=np.asarray(lattices[2].strip().split(),dtype='float32')\n",
    "c=np.asarray(lattices[3].strip().split(),dtype='float32')\n",
    "file.close() #close file lattice---------------------------------------------------------------------\n",
    "al=np.sqrt(np.dot(a,a))\n",
    "bl=np.sqrt(np.dot(b,b))\n",
    "cl=np.sqrt(np.dot(c,c))\n",
    "print(a[0])\n",
    "Vcell=np.dot(np.cross(a,b),c)\n",
    "print(Vcell)#print(format(Vcell,'.2f'))"
   ]
  },
  {
   "cell_type": "markdown",
   "id": "a5bc90da",
   "metadata": {},
   "source": [
    "# Get the NGXF NGYF NGZF"
   ]
  },
  {
   "cell_type": "code",
   "execution_count": 4,
   "id": "ec5b3a54",
   "metadata": {},
   "outputs": [],
   "source": [
    "file=open('NGFS','r+') #open file NGFS---------------------------------------------------------------\n",
    "xyz=np.asarray(file.readline().strip().split(),dtype='int')\n",
    "file.close() #close file NGFS---------------------------------------------------------------------"
   ]
  },
  {
   "cell_type": "markdown",
   "id": "444b152e",
   "metadata": {},
   "source": [
    "# read the charge density: $\\rho(r)\\times V_{cell}$"
   ]
  },
  {
   "cell_type": "code",
   "execution_count": 5,
   "id": "03c69379",
   "metadata": {},
   "outputs": [
    {
     "name": "stdout",
     "output_type": "stream",
     "text": [
      "5\n"
     ]
    }
   ],
   "source": [
    "file=open('CHGCARclean','r+') #open file CHGCARclean---------------------------------------------------------\n",
    "dataoneline=len(file.readline().strip().split())\n",
    "file.close() #close file CHGCARclean-------------------------------------------------------------------------\n",
    "file=open('CHGCARclean','r+') #open file CHGCARclean---------------------------------------------------------\n",
    "CHG=file.readlines()\n",
    "file.close() #close file CHGCARclean-------------------------------------------------------------------------\n",
    "print(dataoneline)"
   ]
  },
  {
   "cell_type": "markdown",
   "id": "86fbe72f",
   "metadata": {},
   "source": [
    "# calculate the $D(z)$. It will take a lot of time to do this stape"
   ]
  },
  {
   "cell_type": "code",
   "execution_count": 6,
   "id": "8f91ca94",
   "metadata": {},
   "outputs": [
    {
     "name": "stdout",
     "output_type": "stream",
     "text": [
      "now begin:\n",
      "10%......\n",
      "20%......\n",
      "30%......\n",
      "40%......\n",
      "50%......\n",
      "60%......\n",
      "70%......\n",
      "80%......\n",
      "90%......\n",
      "job done\n"
     ]
    }
   ],
   "source": [
    "f=open('Dz.dat','w') #open file Dz.dat to write z and D(z)\n",
    "f.write(\"z Dz\\n\")\n",
    "finishline=10\n",
    "print(\"now begin:\")\n",
    "for i in range(0,xyz[2]): #from 0 to xyz[2]-1\n",
    "    CHGdata=0\n",
    "    for j in range(0,xyz[1]):\n",
    "        for k in range(0,xyz[0]):\n",
    "            n=i*xyz[1]*xyz[0]+j*xyz[0]+k+1\n",
    "            CHGi=int(np.floor(n/dataoneline))#the line number\n",
    "            CHGj=np.mod(n,dataoneline)#the column\n",
    "            if (CHGj==0):\n",
    "                CHGj=dataoneline\n",
    "                CHGi=CHGi-1\n",
    "            CHGj=CHGj-1\n",
    "            CHGdataline=np.asarray(CHG[CHGi].strip().split(),dtype='float32')\n",
    "            CHGdata=CHGdataline[CHGj]/xyz[0]/xyz[1]/cl+CHGdata\n",
    "        #k done\n",
    "    #j done\n",
    "    cx=cl*(i+0.5)/xyz[2]\n",
    "    str1=str(cx)\n",
    "    str2=str(CHGdata)\n",
    "    strtot=str1+' '+str2+'\\n'\n",
    "    f.write(strtot)\n",
    "    if (i>finishline*xyz[2]/100):\n",
    "        persents=str(finishline)+'%'+'......'\n",
    "        print(persents)\n",
    "        finishline=10+finishline\n",
    "#i done\n",
    "f.close()\n",
    "print('job done')"
   ]
  },
  {
   "cell_type": "markdown",
   "id": "d3cc3adc",
   "metadata": {},
   "source": [
    "# Finally the job done you can use origin to plot the Dz.dat"
   ]
  },
  {
   "cell_type": "code",
   "execution_count": null,
   "id": "71913834",
   "metadata": {},
   "outputs": [],
   "source": []
  }
 ],
 "metadata": {
  "kernelspec": {
   "display_name": "Python 3",
   "language": "python",
   "name": "python3"
  },
  "language_info": {
   "codemirror_mode": {
    "name": "ipython",
    "version": 3
   },
   "file_extension": ".py",
   "mimetype": "text/x-python",
   "name": "python",
   "nbconvert_exporter": "python",
   "pygments_lexer": "ipython3",
   "version": "3.8.8"
  }
 },
 "nbformat": 4,
 "nbformat_minor": 5
}
